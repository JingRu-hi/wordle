{
  "cells": [
    {
      "cell_type": "markdown",
      "metadata": {
        "id": "view-in-github",
        "colab_type": "text"
      },
      "source": [
        "<a href=\"https://colab.research.google.com/github/JingRu-hi/wordle/blob/main/wordle.ipynb\" target=\"_parent\"><img src=\"https://colab.research.google.com/assets/colab-badge.svg\" alt=\"Open In Colab\"/></a>"
      ]
    },
    {
      "cell_type": "markdown",
      "source": [
        "# begin"
      ],
      "metadata": {
        "id": "kFUeliGfHcFD"
      }
    },
    {
      "cell_type": "code",
      "source": [
        "import sys, string, re\n",
        "import matplotlib.pyplot as plt"
      ],
      "metadata": {
        "id": "MHkuTjt5GpTw"
      },
      "execution_count": null,
      "outputs": []
    },
    {
      "cell_type": "code",
      "execution_count": null,
      "metadata": {
        "colab": {
          "base_uri": "https://localhost:8080/"
        },
        "id": "-ysaWvhl4iRf",
        "outputId": "91e2055c-90fd-4f2f-ddfe-4e6bfb6ca870"
      },
      "outputs": [
        {
          "output_type": "stream",
          "name": "stdout",
          "text": [
            "Cloning into 'data'...\n",
            "remote: Enumerating objects: 43, done.\u001b[K\n",
            "remote: Counting objects: 100% (43/43), done.\u001b[K\n",
            "remote: Compressing objects: 100% (35/35), done.\u001b[K\n",
            "remote: Total 43 (delta 12), reused 27 (delta 7), pack-reused 0\u001b[K\n",
            "Unpacking objects: 100% (43/43), done.\n"
          ]
        }
      ],
      "source": [
        "# !git clone https://github.com/dwyl/english-words.git\n",
        "# !git clone https://github.com/knudmoeller/wordlesolver.git\n",
        "!git clone https://github.com/hakluke/wordlesolver.git data"
      ]
    },
    {
      "cell_type": "code",
      "source": [
        "# !ls data"
      ],
      "metadata": {
        "colab": {
          "base_uri": "https://localhost:8080/"
        },
        "id": "EtjKfamCDfU3",
        "outputId": "eb277b4e-504f-452f-9ca5-20fe337cd626"
      },
      "execution_count": null,
      "outputs": [
        {
          "output_type": "stream",
          "name": "stdout",
          "text": [
            "README.md  wordlesolver.py  words.txt\n"
          ]
        }
      ]
    },
    {
      "cell_type": "code",
      "source": [
        "path = 'data/words.txt'\n",
        "\n",
        "lines = []\n",
        "with open(path,'r') as f:\n",
        "    lines = f.read().splitlines()\n",
        "f.close()\n",
        "# words = [line for line in lines if len(line) == 5]\n",
        "lines[:5]\n",
        "# len(lines)\n"
      ],
      "metadata": {
        "colab": {
          "base_uri": "https://localhost:8080/"
        },
        "id": "NrMg7S6SCrO4",
        "outputId": "3d5f9422-0453-4e8a-feb5-863ef8d9620a"
      },
      "execution_count": null,
      "outputs": [
        {
          "output_type": "execute_result",
          "data": {
            "text/plain": [
              "['cigar', 'rebut', 'sissy', 'humph', 'awake']"
            ]
          },
          "metadata": {},
          "execution_count": 6
        }
      ]
    },
    {
      "cell_type": "markdown",
      "metadata": {
        "id": "OosP1bMZ_M86"
      },
      "source": [
        "# solver"
      ]
    },
    {
      "cell_type": "code",
      "source": [
        "# CCCAB\n",
        "# status: \n",
        "## A: 綠色，灰色\n",
        "## B: 黃\n",
        "## else: 灰\n",
        "\n",
        "sols = lines\n",
        "\n",
        "class filter():\n",
        "  def __init__(self,word,sols):\n",
        "    self.word = word\n",
        "    self.sols = sols\n",
        "\n",
        "  def filterC(self,ans):\n",
        "    # NOTE: setC dont contain setA\n",
        "    ABlist = set(self.word).intersection(ans)\n",
        "    Clist = set(self.word)-ABlist\n",
        "    return [sol for sol in sols if (Clist.isdisjoint(set(sol))) and\n",
        "             (all([letter in sol for letter in ABlist]))]\n",
        "\n",
        "  def patternAB(self,ans):\n",
        "    patternAB = list(self.word)\n",
        "    Alist = set()\n",
        "    for i in range(5):\n",
        "      if list(self.word)[i]==list(ans)[i]:\n",
        "        patternAB[i] \n",
        "        # Alist.add(patternAB[i])\n",
        "      else:\n",
        "        patternAB[i] = f'[^{patternAB[i]}]'\n",
        "    patternAB = ''.join(patternAB)\n",
        "    patternAB = f'^{patternAB}$'\n",
        "    return re.compile(patternAB)\n",
        "\n",
        "\n",
        "  def filterABC(self,ans):\n",
        "    patternAB = self.patternAB(ans)\n",
        "    ABlist = set(self.word).intersection(ans)\n",
        "    sols = self.filterC(ans)\n",
        "    sols_AB = [re.match(patternAB,sol).group() for sol in sols if\n",
        "               (re.match(patternAB,sol) is not None)]\n",
        "    return sols_AB\n",
        "\n",
        "test = ['aaara','faara','aaarr']"
      ],
      "metadata": {
        "id": "x8zliS_VvT6-"
      },
      "execution_count": null,
      "outputs": []
    },
    {
      "cell_type": "code",
      "source": [
        "set([1,2,3]).issubset(set([1,5,2,3]))"
      ],
      "metadata": {
        "colab": {
          "base_uri": "https://localhost:8080/"
        },
        "id": "mrUZGa3Y_-t8",
        "outputId": "9994d89b-13bf-4ed8-a82c-dc5335680b26"
      },
      "execution_count": null,
      "outputs": [
        {
          "output_type": "execute_result",
          "data": {
            "text/plain": [
              "True"
            ]
          },
          "metadata": {},
          "execution_count": 63
        }
      ]
    },
    {
      "cell_type": "code",
      "source": [
        "# CCCAB\n",
        "# status: \n",
        "## A: 綠色，灰色\n",
        "## B: 黃\n",
        "## else: 灰\n",
        "\n",
        "sols = lines\n",
        "\n",
        "class filter():\n",
        "  def __init__(self,word,sols):\n",
        "    self.word = word\n",
        "    self.sols = sols\n",
        "\n",
        "  def filterChar(self,ans):\n",
        "    ABlist = set(self.word).intersection(ans)\n",
        "    Clist = set(self.word)-ABlist\n",
        "    return [sol for sol in sols if (Clist.isdisjoint(set(sol))) and\n",
        "             (ABlist.issubset(set(sol)))]\n",
        "\n",
        "  def patternPos(self,ans):\n",
        "    patternPos = list(self.word)\n",
        "    # Alist = set()\n",
        "    for i in range(5):\n",
        "      if list(self.word)[i]==list(ans)[i]:\n",
        "        patternPos[i] \n",
        "        # Alist.add(patternPos[i])\n",
        "      else:\n",
        "        patternPos[i] = f'[^{patternPos[i]}]'\n",
        "    patternPos = ''.join(patternPos)\n",
        "    patternPos = f'^{patternPos}$'\n",
        "    return re.compile(patternPos)\n",
        "\n",
        "\n",
        "  def filterPos(self,ans):\n",
        "    patternPos = self.patternPos(ans)\n",
        "    ABlist = set(self.word).intersection(ans)\n",
        "    sols = self.filterChar(ans)\n",
        "    solsPos = [re.match(patternPos,sol).group() for sol in sols if\n",
        "               (re.match(patternPos,sol) is not None)]\n",
        "    return solsPos"
      ],
      "metadata": {
        "id": "wJuxOiAT2M2U"
      },
      "execution_count": null,
      "outputs": []
    },
    {
      "cell_type": "code",
      "source": [
        "ans = 'shave'\n",
        "\n",
        "sols = lines\n",
        "word = 'raile'\n",
        "while len(sols)!=1:\n",
        "  sols = filter(word ,sols).filterPos(ans)\n",
        "  word = sols[0]\n",
        "  print(word)\n",
        "  print(len(sols))"
      ],
      "metadata": {
        "colab": {
          "base_uri": "https://localhost:8080/"
        },
        "id": "4g9HAChRlsdw",
        "outputId": "42a8673b-cf6e-44a3-8cda-e53f3c046395"
      },
      "execution_count": null,
      "outputs": [
        {
          "output_type": "stream",
          "name": "stdout",
          "text": [
            "awake\n",
            "43\n",
            "evade\n",
            "20\n",
            "suave\n",
            "4\n",
            "stave\n",
            "2\n",
            "shave\n",
            "1\n"
          ]
        }
      ]
    },
    {
      "cell_type": "code",
      "source": [
        "\n",
        "# CCCAB\n",
        "# status: \n",
        "## A: 綠色，灰色\n",
        "## B: 黃\n",
        "## else: 灰\n",
        "word = 'raile'\n",
        "\n",
        "sols = lines\n",
        "len_1 = []\n",
        "tmp = filter(word ,sols)\n",
        "for ans in lines:\n",
        "  tmp_sols = tmp.filterABC(ans)\n",
        "  # print(tmp.filterABC(ans))\n",
        "  len_1.append(len(tmp_sols))\n",
        "\n",
        "print(f'expected possible solutions: {sum(len_1)/len(len_1)}')\n",
        "\n",
        "plt.hist(len_1)\n",
        "plt.show()"
      ],
      "metadata": {
        "id": "V-dDa0OGRTkh",
        "colab": {
          "base_uri": "https://localhost:8080/",
          "height": 282
        },
        "outputId": "bfc81f97-3c13-4369-daf7-0bb6a3d5a13a"
      },
      "execution_count": null,
      "outputs": [
        {
          "output_type": "stream",
          "name": "stdout",
          "text": [
            "expected possible solutions: 61.33088552915767\n"
          ]
        },
        {
          "output_type": "display_data",
          "data": {
            "image/png": "[encoded data removed]",
            "text/plain": [
              "<Figure size 432x288 with 1 Axes>"
            ]
          },
          "metadata": {
            "needs_background": "light"
          }
        }
      ]
    },
    {
      "cell_type": "code",
      "source": [
        "word = 'raile'\n",
        "sols = lines\n",
        "sols.remove(word)\n",
        "# len_1 = []\n",
        "\n",
        "initialObj = filter(word ,sols)\n",
        "for ans in sols:\n",
        "  tmp_sols = initialObj.filterABC(ans)\n",
        "  # len_1.append(len(tmp_sols))\n",
        "  for second in tmp_sols:\n",
        "    tmp_sols2 = tmp_sols\n",
        "\n",
        "    secondObj = filter(second ,tmp_sols2)\n",
        "    tmp_sols2 = secondObj.filterABC(ans)\n",
        "\n",
        "\n",
        "print(f'expected possible solutions: {sum(len_1)/len(len_1)}')\n",
        "\n",
        "plt.hist(len_1)\n",
        "plt.show()"
      ],
      "metadata": {
        "id": "XzP_1wCXIyBi"
      },
      "execution_count": null,
      "outputs": []
    },
    {
      "cell_type": "markdown",
      "source": [
        "# end"
      ],
      "metadata": {
        "id": "z3PpoFEgDY2m"
      }
    },
    {
      "cell_type": "code",
      "source": [
        "\n",
        "# def get_candidates(words, present, not_present, pattern):\n",
        "#     return [word for word in words if\n",
        "#             all([letter in word for letter in present]) and\n",
        "#             not any([letter in word for letter in not_present]) and\n",
        "#             pattern.match(word)\n",
        "#             ]\n",
        "\n",
        "\n",
        "\n",
        "# # set parameters\n",
        "# present = [char for char in 'ae'] # letters that we know are in the word\n",
        "# # present = set(word).intersection(ans)\n",
        "# not_present = [char for char in 'ris']  # letters we know are not in the word\n",
        "# # not_present = set(word)-present\n",
        "# pattern = re.compile('....e')\n",
        "\n",
        "# # filter words with all() and not any()\n",
        "# candidates = get_candidates(words, present, not_present, pattern)\n",
        "# print(sorted(candidates))\n",
        "# print(len(candidates))\n"
      ],
      "metadata": {
        "id": "hVioqv64CdxR"
      },
      "execution_count": null,
      "outputs": []
    },
    {
      "cell_type": "code",
      "source": [
        "distribution={}\n",
        "\n",
        "# guess = initial_word\n",
        "candidates = lines[:] \n",
        "count = 0\n",
        "total_depth = 0\n",
        "criterions=lines[:]\n",
        "\n",
        "def recur(guess, ans, candidates, d=0):\n",
        "  if len(candidates) == 1:\n",
        "    global count, total_depth\n",
        "    count +=1\n",
        "    total_depth +=d\n",
        "  else:\n",
        "    d+=1\n",
        "    candidates = filter(guess, candidates).filterPos(ans) \n",
        "    for c in candidates:\n",
        "          recur(c, ans, candidates, d=d)  # take every word in the candidates\n",
        "  return total_depth\n",
        "\n",
        "\n",
        "# given: initial_word, ans\n",
        "for initial_word in lines:\n",
        "  count = 0\n",
        "  criterions= lines\n",
        "  for ans in lines:\n",
        "    total_depth = 0\n",
        "    count, total_depth = recur(initial_word, ans, candidates, criterions, d=0)\n",
        "  distribution[initial_word] = total_depth/count\n",
        "\n",
        "# Goal:find the minimum depth in the distribution of words"
      ],
      "metadata": {
        "id": "mbOKEGa-zxaK"
      },
      "execution_count": null,
      "outputs": []
    },
    {
      "cell_type": "code",
      "source": [
        "# from collections import defaultdict\n",
        "# d = defaultdict(dict)\n",
        "# d[\"a\"]['b']"
      ],
      "metadata": {
        "id": "V21tL5tzGL2e"
      },
      "execution_count": 1,
      "outputs": []
    },
    {
      "cell_type": "code",
      "source": [
        ""
      ],
      "metadata": {
        "id": "MMbC68d5GS8r"
      },
      "execution_count": null,
      "outputs": []
    },
    {
      "cell_type": "code",
      "source": [
        "\n",
        "\n",
        "distribution = {}\n",
        "guess = initial_word\n",
        "candidates = word_dictionary[:]  # 辭典\n",
        "count = 0\n",
        "total_depth = 0\n",
        "criterions=[criterion_A, criterion_B, criterion_C] \n",
        "\n",
        "def recur(guess, ans, candidates, criterions, d=0):\n",
        "    if len (candidates) == 1:\n",
        "        count +=1\n",
        "        total_depth +=d\n",
        "    else:\n",
        "        d+=1\n",
        "        candidates, criterions = filter(guess, ans, criterions)\n",
        "        for c in candidates:\n",
        "             recur(c, ans, candidates, criterions, d=d)  # take every word in the candidates\n",
        "\n",
        "for word in word_dictionary:\n",
        "    count = 0\n",
        "    total_depth = 0\n",
        "    criterions=[criterion_A, criterion_B, criterion_C] \n",
        "    for ans in word_dictionary:\n",
        "        recur(word, ans, candidates, criterions, d=0)\n",
        "    distribution[word] = total_depth/count\n"
      ],
      "metadata": {
        "id": "xRiF6T9K8PLL"
      },
      "execution_count": null,
      "outputs": []
    },
    {
      "cell_type": "code",
      "source": [
        ""
      ],
      "metadata": {
        "id": "-h3MVpye9Jax"
      },
      "execution_count": null,
      "outputs": []
    }
  ],
  "metadata": {
    "colab": {
      "name": "wordle.ipynb",
      "provenance": [],
      "collapsed_sections": [],
      "toc_visible": true,
      "authorship_tag": "ABX9TyMmHa7c/nLah2qRF3U0ehHJ",
      "include_colab_link": true
    },
    "kernelspec": {
      "display_name": "Python 3",
      "name": "python3"
    },
    "language_info": {
      "name": "python"
    }
  },
  "nbformat": 4,
  "nbformat_minor": 0
}